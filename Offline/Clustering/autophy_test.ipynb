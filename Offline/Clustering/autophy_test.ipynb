{
 "cells": [
  {
   "cell_type": "code",
   "execution_count": 1,
   "metadata": {},
   "outputs": [
    {
     "ename": "ModuleNotFoundError",
     "evalue": "No module named 'npx_autophy'",
     "output_type": "error",
     "traceback": [
      "\u001b[1;31m---------------------------------------------------------------------------\u001b[0m",
      "\u001b[1;31mModuleNotFoundError\u001b[0m                       Traceback (most recent call last)",
      "Cell \u001b[1;32mIn[1], line 1\u001b[0m\n\u001b[1;32m----> 1\u001b[0m \u001b[38;5;28;01mfrom\u001b[39;00m \u001b[38;5;21;01mnpx_autophy\u001b[39;00m \u001b[38;5;28;01mimport\u001b[39;00m spikex_classifier\n\u001b[0;32m      3\u001b[0m sc\u001b[38;5;241m=\u001b[39mspikex_classifier()\n",
      "\u001b[1;31mModuleNotFoundError\u001b[0m: No module named 'npx_autophy'"
     ]
    }
   ],
   "source": [
    "from npx_autophy import spikex_classifier\n",
    "\n",
    "sc=spikex_classifier()\n"
   ]
  }
 ],
 "metadata": {
  "kernelspec": {
   "display_name": "npx_tempo",
   "language": "python",
   "name": "python3"
  },
  "language_info": {
   "codemirror_mode": {
    "name": "ipython",
    "version": 3
   },
   "file_extension": ".py",
   "mimetype": "text/x-python",
   "name": "python",
   "nbconvert_exporter": "python",
   "pygments_lexer": "ipython3",
   "version": "3.10.9"
  }
 },
 "nbformat": 4,
 "nbformat_minor": 2
}
